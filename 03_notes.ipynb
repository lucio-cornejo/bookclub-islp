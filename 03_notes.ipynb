{
  "cells": [
    {
      "cell_type": "markdown",
      "metadata": {},
      "source": [
        "# Data Structures and Sequences\n",
        "\n",
        "## Tuples\n",
        "\n",
        "![](https://pynative.com/wp-content/uploads/2021/02/python-tuple.jpg)\n",
        "\n",
        "A tuple is a fixed-length, immutable sequence of Python objects which, once assigned, cannot be changed. The easiest way to create one is with a comma-separated sequence of values wrapped in parentheses:\n"
      ],
      "id": "3a1cd725"
    },
    {
      "cell_type": "code",
      "metadata": {},
      "source": [
        "tup = (4, 5, 6)\n",
        "tup"
      ],
      "id": "1a4127fb",
      "execution_count": null,
      "outputs": []
    },
    {
      "cell_type": "markdown",
      "metadata": {},
      "source": [
        "In many contexts, the parentheses can be omitted\n"
      ],
      "id": "7fc1781c"
    },
    {
      "cell_type": "code",
      "metadata": {},
      "source": [
        "tup = 4, 5, 6\n",
        "tup"
      ],
      "id": "0f1a6f84",
      "execution_count": null,
      "outputs": []
    },
    {
      "cell_type": "markdown",
      "metadata": {},
      "source": [
        "You can convert any sequence or iterator to a tuple by invoking\n"
      ],
      "id": "c2fda83c"
    },
    {
      "cell_type": "code",
      "metadata": {},
      "source": [
        "tuple([4,0,2])\n",
        "\n",
        "tup = tuple('string')\n",
        "\n",
        "tup"
      ],
      "id": "95488ca7",
      "execution_count": null,
      "outputs": []
    },
    {
      "cell_type": "markdown",
      "metadata": {},
      "source": [
        "Elements can be accessed with square brackets [] \n",
        "\n",
        "Note the zero indexing\n"
      ],
      "id": "78eba52c"
    },
    {
      "cell_type": "code",
      "metadata": {},
      "source": [
        "tup[0]"
      ],
      "id": "c4fee8cb",
      "execution_count": null,
      "outputs": []
    },
    {
      "cell_type": "markdown",
      "metadata": {},
      "source": [
        "Tuples of tuples\n"
      ],
      "id": "21889737"
    },
    {
      "cell_type": "code",
      "metadata": {},
      "source": [
        "nested_tup = (4,5,6),(7,8)\n",
        "\n",
        "nested_tup"
      ],
      "id": "97645c8c",
      "execution_count": null,
      "outputs": []
    },
    {
      "cell_type": "code",
      "metadata": {},
      "source": [
        "nested_tup[0]"
      ],
      "id": "c85ab770",
      "execution_count": null,
      "outputs": []
    },
    {
      "cell_type": "code",
      "metadata": {},
      "source": [
        "nested_tup[1]"
      ],
      "id": "127f5db3",
      "execution_count": null,
      "outputs": []
    },
    {
      "cell_type": "markdown",
      "metadata": {},
      "source": [
        "While the objects stored in a tuple may be mutable themselves, once the tuple is created it’s not possible to modify which object is stored in each slot:\n"
      ],
      "id": "d4d95305"
    },
    {
      "cell_type": "code",
      "metadata": {},
      "source": [
        "tup = tuple(['foo', [1, 2], True])\n",
        "\n",
        "tup[2]"
      ],
      "id": "57fb7160",
      "execution_count": null,
      "outputs": []
    },
    {
      "cell_type": "markdown",
      "metadata": {},
      "source": [
        "```{{python}}\n",
        "\n",
        "tup[2] = False\n",
        "\n",
        "```\n",
        "\n",
        "````\n",
        "TypeError                                 Traceback (most recent call last)\n",
        "Input In [9], in <cell line: 1>()\n",
        "----> 1 tup[2] = False\n",
        "\n",
        "TypeError: 'tuple' object does not support item assignment\n",
        "TypeError: 'tuple' object does not support item assignment\n",
        "````\n",
        "\n",
        "If an object inside a tuple is mutable, such as a list, you can modify it in place\n"
      ],
      "id": "4c5947e2"
    },
    {
      "cell_type": "code",
      "metadata": {},
      "source": [
        "tup[1].append(3)\n",
        "\n",
        "tup"
      ],
      "id": "3b55b0ca",
      "execution_count": null,
      "outputs": []
    },
    {
      "cell_type": "markdown",
      "metadata": {},
      "source": [
        "You can concatenate tuples using the + operator to produce longer tuples:\n"
      ],
      "id": "67812910"
    },
    {
      "cell_type": "code",
      "metadata": {},
      "source": [
        "(4, None, 'foo') + (6, 0) + ('bar',)"
      ],
      "id": "e4893a4b",
      "execution_count": null,
      "outputs": []
    },
    {
      "cell_type": "markdown",
      "metadata": {},
      "source": [
        "### Unpacking tuples\n",
        "\n",
        "If you try to assign to a tuple-like expression of variables, Python will attempt to unpack the value on the righthand side of the equals sign:\n"
      ],
      "id": "15ea0473"
    },
    {
      "cell_type": "code",
      "metadata": {},
      "source": [
        "tup = (4, 5, 6)\n",
        "tup"
      ],
      "id": "9c245a45",
      "execution_count": null,
      "outputs": []
    },
    {
      "cell_type": "code",
      "metadata": {},
      "source": [
        "a, b, c = tup\n",
        "\n",
        "c"
      ],
      "id": "f5614d81",
      "execution_count": null,
      "outputs": []
    },
    {
      "cell_type": "markdown",
      "metadata": {},
      "source": [
        "Even sequences with nested tuples can be unpacked:\n"
      ],
      "id": "0fe7113c"
    },
    {
      "cell_type": "code",
      "metadata": {},
      "source": [
        "tup = 4, 5, (6,7)\n",
        "\n",
        "a, b, (c, d) = tup\n",
        "\n",
        "d"
      ],
      "id": "5121e8d1",
      "execution_count": null,
      "outputs": []
    },
    {
      "cell_type": "markdown",
      "metadata": {},
      "source": [
        "To easily swap variable names\n"
      ],
      "id": "d1f1eb7c"
    },
    {
      "cell_type": "code",
      "metadata": {},
      "source": [
        "a, b = 1, 4\n",
        "\n",
        "a"
      ],
      "id": "e7862391",
      "execution_count": null,
      "outputs": []
    },
    {
      "cell_type": "code",
      "metadata": {},
      "source": [
        "b"
      ],
      "id": "561bc446",
      "execution_count": null,
      "outputs": []
    },
    {
      "cell_type": "code",
      "metadata": {},
      "source": [
        "b, a = a, b\n",
        "\n",
        "a"
      ],
      "id": "2ca4bbe9",
      "execution_count": null,
      "outputs": []
    },
    {
      "cell_type": "code",
      "metadata": {},
      "source": [
        "b"
      ],
      "id": "942829e5",
      "execution_count": null,
      "outputs": []
    },
    {
      "cell_type": "markdown",
      "metadata": {},
      "source": [
        "A common use of variable unpacking is iterating over sequences of tuples or lists\n"
      ],
      "id": "d152ab53"
    },
    {
      "cell_type": "code",
      "metadata": {},
      "source": [
        "seq = [(1, 2, 3), (4, 5, 6), (7, 8, 9)]\n",
        "\n",
        "seq"
      ],
      "id": "796edb9b",
      "execution_count": null,
      "outputs": []
    },
    {
      "cell_type": "code",
      "metadata": {},
      "source": [
        "for a, b, c in seq:\n",
        "     print(f'a={a}, b={b}, c={c}')"
      ],
      "id": "d7d0cce1",
      "execution_count": null,
      "outputs": []
    },
    {
      "cell_type": "markdown",
      "metadata": {},
      "source": [
        "`*rest` syntax for plucking elements\n"
      ],
      "id": "2893705e"
    },
    {
      "cell_type": "code",
      "metadata": {},
      "source": [
        "values = 1,2,3,4,5\n",
        "\n",
        "a, b, *rest = values\n",
        "\n",
        "rest"
      ],
      "id": "19bfdc95",
      "execution_count": null,
      "outputs": []
    },
    {
      "cell_type": "markdown",
      "metadata": {},
      "source": [
        " As a matter of convention, many Python programmers will use the underscore (_) for unwanted variables:\n"
      ],
      "id": "b3d21d63"
    },
    {
      "cell_type": "code",
      "metadata": {},
      "source": [
        "a, b, *_ = values"
      ],
      "id": "0a7aeed0",
      "execution_count": null,
      "outputs": []
    },
    {
      "cell_type": "markdown",
      "metadata": {},
      "source": [
        "### Tuple methods\n",
        "\n",
        "Since the size and contents of a tuple cannot be modified, it is very light on instance methods. A particularly useful one (also available on lists) is `count`\n"
      ],
      "id": "5c9410b2"
    },
    {
      "cell_type": "code",
      "metadata": {},
      "source": [
        "a = (1,2,2,2,2,3,4,5,7,8,9)\n",
        "\n",
        "a.count(2)"
      ],
      "id": "9c1cfa8b",
      "execution_count": null,
      "outputs": []
    },
    {
      "cell_type": "markdown",
      "metadata": {},
      "source": [
        "## List\n",
        "\n",
        "![](https://pynative.com/wp-content/uploads/2021/03/python-list.jpg)\n",
        "\n",
        "In contrast with tuples, lists are variable length and their contents can be modified in place.\n",
        "\n",
        "Lists are mutable. \n",
        "\n",
        "Lists use `[]` square brackts or the `list` function\n"
      ],
      "id": "31fa597f"
    },
    {
      "cell_type": "code",
      "metadata": {},
      "source": [
        "a_list = [2, 3, 7, None]\n",
        "\n",
        "tup = (\"foo\", \"bar\", \"baz\")\n",
        "\n",
        "b_list = list(tup)\n",
        "\n",
        "b_list"
      ],
      "id": "ad9b1cba",
      "execution_count": null,
      "outputs": []
    },
    {
      "cell_type": "code",
      "metadata": {},
      "source": [
        "b_list[1] = \"peekaboo\"\n",
        "\n",
        "b_list"
      ],
      "id": "8fe59228",
      "execution_count": null,
      "outputs": []
    },
    {
      "cell_type": "markdown",
      "metadata": {},
      "source": [
        "Lists and tuples are semantically similar (though tuples cannot be modified) and can be used interchangeably in many functions.\n"
      ],
      "id": "ddb1939c"
    },
    {
      "cell_type": "code",
      "metadata": {},
      "source": [
        "gen = range(10)\n",
        "\n",
        "gen"
      ],
      "id": "01cfddb6",
      "execution_count": null,
      "outputs": []
    },
    {
      "cell_type": "code",
      "metadata": {},
      "source": [
        "list(gen)"
      ],
      "id": "c9f3d6c6",
      "execution_count": null,
      "outputs": []
    },
    {
      "cell_type": "markdown",
      "metadata": {},
      "source": [
        "### Adding and removing list elements\n",
        "\n",
        "the `append` method\n"
      ],
      "id": "fe563a3f"
    },
    {
      "cell_type": "code",
      "metadata": {},
      "source": [
        "b_list.append(\"dwarf\")\n",
        "\n",
        "b_list"
      ],
      "id": "41c681f0",
      "execution_count": null,
      "outputs": []
    },
    {
      "cell_type": "markdown",
      "metadata": {},
      "source": [
        "the `insert` method\n"
      ],
      "id": "6fc8d0d8"
    },
    {
      "cell_type": "code",
      "metadata": {},
      "source": [
        "b_list.insert(1, \"red\")\n",
        "\n",
        "b_list"
      ],
      "id": "b0263126",
      "execution_count": null,
      "outputs": []
    },
    {
      "cell_type": "markdown",
      "metadata": {},
      "source": [
        "`insert` is computationally more expensive than `append`\n",
        "\n",
        "the `pop` method, the inverse of `insert`\n"
      ],
      "id": "cb008d9e"
    },
    {
      "cell_type": "code",
      "metadata": {},
      "source": [
        "b_list.pop(2)"
      ],
      "id": "f4f1b899",
      "execution_count": null,
      "outputs": []
    },
    {
      "cell_type": "code",
      "metadata": {},
      "source": [
        "b_list"
      ],
      "id": "e49ad587",
      "execution_count": null,
      "outputs": []
    },
    {
      "cell_type": "markdown",
      "metadata": {},
      "source": [
        "the `remove` method\n"
      ],
      "id": "43f3cf43"
    },
    {
      "cell_type": "code",
      "metadata": {},
      "source": [
        "b_list.append(\"foo\")\n",
        "\n",
        "b_list"
      ],
      "id": "a2a16d87",
      "execution_count": null,
      "outputs": []
    },
    {
      "cell_type": "code",
      "metadata": {},
      "source": [
        "b_list.remove(\"foo\")\n",
        "\n",
        "b_list"
      ],
      "id": "6e6f6c89",
      "execution_count": null,
      "outputs": []
    },
    {
      "cell_type": "markdown",
      "metadata": {},
      "source": [
        "Check if a list contains a value using the `in` keyword:\n"
      ],
      "id": "b35edf6c"
    },
    {
      "cell_type": "code",
      "metadata": {},
      "source": [
        "\"dwarf\" in b_list"
      ],
      "id": "d0e319fe",
      "execution_count": null,
      "outputs": []
    },
    {
      "cell_type": "markdown",
      "metadata": {},
      "source": [
        "The keyword `not` can be used to negate an `in`\n"
      ],
      "id": "7d2db93f"
    },
    {
      "cell_type": "code",
      "metadata": {},
      "source": [
        "\"dwarf\" not in b_list"
      ],
      "id": "5e8dc06f",
      "execution_count": null,
      "outputs": []
    },
    {
      "cell_type": "markdown",
      "metadata": {},
      "source": [
        "### Concatenating and combining lists\n",
        "\n",
        "similar with tuples, use `+` to concatenate\n"
      ],
      "id": "2c7cdae3"
    },
    {
      "cell_type": "code",
      "metadata": {},
      "source": [
        "[4, None, \"foo\"] + [7, 8, (2, 3)]"
      ],
      "id": "1f40071b",
      "execution_count": null,
      "outputs": []
    },
    {
      "cell_type": "markdown",
      "metadata": {},
      "source": [
        "the `extend` method\n"
      ],
      "id": "94e06b08"
    },
    {
      "cell_type": "code",
      "metadata": {},
      "source": [
        "x = [4, None, \"foo\"]\n",
        "\n",
        "x.extend([7,8,(2,3)])\n",
        "\n",
        "x"
      ],
      "id": "f932920f",
      "execution_count": null,
      "outputs": []
    },
    {
      "cell_type": "markdown",
      "metadata": {},
      "source": [
        "list concatenation by addition is an expensive operation\n",
        "\n",
        "using `extend` is preferable\n",
        "\n",
        "```{{python}}\n",
        "everything = []\n",
        "for chunk in list_of_lists:\n",
        "    everything.extend(chunk)\n",
        "\n",
        "```\n",
        "\n",
        "is generally faster than\n",
        "\n",
        "```{{python}}\n",
        "\n",
        "everything = []\n",
        "for chunk in list_of_lists:\n",
        "    everything = everything + chunk\n",
        "\n",
        "```\n",
        "\n",
        "### Sorting\n",
        "\n",
        "the `sort` method\n"
      ],
      "id": "bd8208a9"
    },
    {
      "cell_type": "code",
      "metadata": {},
      "source": [
        "a = [7, 2, 5, 1, 3]\n",
        "\n",
        "a.sort()\n",
        "\n",
        "a"
      ],
      "id": "bfa975b2",
      "execution_count": null,
      "outputs": []
    },
    {
      "cell_type": "markdown",
      "metadata": {},
      "source": [
        "`sort` options\n"
      ],
      "id": "a9c1ddab"
    },
    {
      "cell_type": "code",
      "metadata": {},
      "source": [
        "b = [\"saw\", \"small\", \"He\", \"foxes\", \"six\"]\n",
        "\n",
        "b.sort(key = len)\n",
        "\n",
        "b"
      ],
      "id": "4d535f46",
      "execution_count": null,
      "outputs": []
    },
    {
      "cell_type": "markdown",
      "metadata": {},
      "source": [
        "### Slicing\n",
        "\n",
        "Slicing semantics takes a bit of getting used to, especially if you’re coming from R or MATLAB.\n",
        "\n",
        "using the indexing operator `[]`\n"
      ],
      "id": "bdb45eae"
    },
    {
      "cell_type": "code",
      "metadata": {},
      "source": [
        "seq = [7, 2, 3, 7, 5, 6, 0, 1]\n",
        "\n",
        "seq[3:5]"
      ],
      "id": "5701d6d6",
      "execution_count": null,
      "outputs": []
    },
    {
      "cell_type": "markdown",
      "metadata": {},
      "source": [
        "also assigned with a sequence\n"
      ],
      "id": "4099c569"
    },
    {
      "cell_type": "code",
      "metadata": {},
      "source": [
        "seq[3:5] = [6,3]\n",
        "\n",
        "seq"
      ],
      "id": "55b637cf",
      "execution_count": null,
      "outputs": []
    },
    {
      "cell_type": "markdown",
      "metadata": {},
      "source": [
        "Either the `start` or `stop` can be omitted\n"
      ],
      "id": "f9053599"
    },
    {
      "cell_type": "code",
      "metadata": {},
      "source": [
        "seq[:5]"
      ],
      "id": "c8e1b8c1",
      "execution_count": null,
      "outputs": []
    },
    {
      "cell_type": "code",
      "metadata": {},
      "source": [
        "seq[3:]"
      ],
      "id": "819cfcc7",
      "execution_count": null,
      "outputs": []
    },
    {
      "cell_type": "markdown",
      "metadata": {},
      "source": [
        "Negative indices slice the sequence relative to the end:\n"
      ],
      "id": "96b07bb0"
    },
    {
      "cell_type": "code",
      "metadata": {},
      "source": [
        "seq[-4:]"
      ],
      "id": "77933d0f",
      "execution_count": null,
      "outputs": []
    },
    {
      "cell_type": "markdown",
      "metadata": {},
      "source": [
        "A step can also be used after a second colon to, say, take every other element:\n"
      ],
      "id": "cd3a69ff"
    },
    {
      "cell_type": "code",
      "metadata": {},
      "source": [
        "seq[::2]"
      ],
      "id": "7e056d7a",
      "execution_count": null,
      "outputs": []
    },
    {
      "cell_type": "markdown",
      "metadata": {},
      "source": [
        "A clever use of this is to pass -1, which has the useful effect of reversing a list or tuple:\n"
      ],
      "id": "f7eec93a"
    },
    {
      "cell_type": "code",
      "metadata": {},
      "source": [
        "seq[::-1]"
      ],
      "id": "ebdf6ab2",
      "execution_count": null,
      "outputs": []
    },
    {
      "cell_type": "markdown",
      "metadata": {},
      "source": [
        "## Dictionary\n",
        "\n",
        "![](https://pynative.com/wp-content/uploads/2021/02/dictionaries-in-python.jpg)\n",
        "\n",
        "The dictionary or dict may be the most important built-in Python data structure. \n",
        "\n",
        "One approach for creating a dictionary is to use curly braces {} and colons to separate keys and values:\n"
      ],
      "id": "220ffa92"
    },
    {
      "cell_type": "code",
      "metadata": {},
      "source": [
        "empty_dict = {}\n",
        "\n",
        "d1 = {\"a\": \"some value\", \"b\": [1, 2, 3, 4]}\n",
        "\n",
        "d1"
      ],
      "id": "c34db4ac",
      "execution_count": null,
      "outputs": []
    },
    {
      "cell_type": "markdown",
      "metadata": {},
      "source": [
        "access, insert, or set elements \n"
      ],
      "id": "33105b9a"
    },
    {
      "cell_type": "code",
      "metadata": {},
      "source": [
        "d1[7] = \"an integer\"\n",
        "\n",
        "d1"
      ],
      "id": "a4b37752",
      "execution_count": null,
      "outputs": []
    },
    {
      "cell_type": "markdown",
      "metadata": {},
      "source": [
        "and as before\n"
      ],
      "id": "6498f75e"
    },
    {
      "cell_type": "code",
      "metadata": {},
      "source": [
        "\"b\" in d1"
      ],
      "id": "c39e6a68",
      "execution_count": null,
      "outputs": []
    },
    {
      "cell_type": "markdown",
      "metadata": {},
      "source": [
        "the `del` and `pop` methods\n"
      ],
      "id": "930cb78c"
    },
    {
      "cell_type": "code",
      "metadata": {},
      "source": [
        "del d1[7]\n",
        "\n",
        "d1"
      ],
      "id": "cfb76431",
      "execution_count": null,
      "outputs": []
    },
    {
      "cell_type": "code",
      "metadata": {},
      "source": [
        "ret = d1.pop(\"a\")\n",
        "\n",
        "ret"
      ],
      "id": "e5d88427",
      "execution_count": null,
      "outputs": []
    },
    {
      "cell_type": "markdown",
      "metadata": {},
      "source": [
        "The `keys` and `values` methods\n"
      ],
      "id": "4b1e03fb"
    },
    {
      "cell_type": "code",
      "metadata": {},
      "source": [
        "list(d1.keys())"
      ],
      "id": "8b5f63e2",
      "execution_count": null,
      "outputs": []
    },
    {
      "cell_type": "code",
      "metadata": {},
      "source": [
        "list(d1.values())"
      ],
      "id": "775fe0de",
      "execution_count": null,
      "outputs": []
    },
    {
      "cell_type": "markdown",
      "metadata": {},
      "source": [
        "the `items` method\n"
      ],
      "id": "25b142c2"
    },
    {
      "cell_type": "code",
      "metadata": {},
      "source": [
        "list(d1.items())"
      ],
      "id": "9f6f9bed",
      "execution_count": null,
      "outputs": []
    },
    {
      "cell_type": "markdown",
      "metadata": {},
      "source": [
        " the update method to merge one dictionary into another\n"
      ],
      "id": "38f1c365"
    },
    {
      "cell_type": "code",
      "metadata": {},
      "source": [
        "d1.update({\"b\": \"foo\", \"c\": 12})\n",
        "\n",
        "d1"
      ],
      "id": "70f2b3cf",
      "execution_count": null,
      "outputs": []
    },
    {
      "cell_type": "markdown",
      "metadata": {},
      "source": [
        " ### Creating dictionaries from sequences\n"
      ],
      "id": "8317076b"
    },
    {
      "cell_type": "code",
      "metadata": {},
      "source": [
        "list(range(5))"
      ],
      "id": "d7515c7a",
      "execution_count": null,
      "outputs": []
    },
    {
      "cell_type": "code",
      "metadata": {},
      "source": [
        "tuples = zip(range(5), reversed(range(5)))\n",
        "\n",
        "tuples\n",
        "\n",
        "mapping = dict(tuples)\n",
        "\n",
        "mapping"
      ],
      "id": "3a31e0b1",
      "execution_count": null,
      "outputs": []
    },
    {
      "cell_type": "markdown",
      "metadata": {},
      "source": [
        "### Default values\n",
        "\n",
        "imagine categorizing a list of words by their first letters as a dictionary of lists\n"
      ],
      "id": "435e294f"
    },
    {
      "cell_type": "code",
      "metadata": {},
      "source": [
        "words = [\"apple\", \"bat\", \"bar\", \"atom\", \"book\"]\n",
        "\n",
        "by_letter = {}\n",
        "\n",
        "for word in words:\n",
        "        letter = word[0]\n",
        "        if letter not in by_letter:\n",
        "            by_letter[letter] = [word]\n",
        "        else:\n",
        "            by_letter[letter].append(word)\n",
        "\n",
        "by_letter"
      ],
      "id": "27c323c7",
      "execution_count": null,
      "outputs": []
    },
    {
      "cell_type": "markdown",
      "metadata": {},
      "source": [
        "The `setdefault` dictionary method can be used to simplify this workflow. The preceding for loop can be rewritten as:\n"
      ],
      "id": "d9a79573"
    },
    {
      "cell_type": "code",
      "metadata": {},
      "source": [
        "by_letter = {}\n",
        "\n",
        "for word in words:\n",
        "        letter = word[0]\n",
        "        by_letter.setdefault(letter, []).append(word)\n",
        "\n",
        "by_letter"
      ],
      "id": "549ce24b",
      "execution_count": null,
      "outputs": []
    },
    {
      "cell_type": "markdown",
      "metadata": {},
      "source": [
        "The built-in `collections`module has a useful class, `defaultdict`, which makes this even easier.\n"
      ],
      "id": "a2e69d92"
    },
    {
      "cell_type": "code",
      "metadata": {},
      "source": [
        "from collections import defaultdict\n",
        "\n",
        "by_letter = defaultdict(list)\n",
        "\n",
        "for word in words:\n",
        "        by_letter[word[0]].append(word)\n",
        "\n",
        "by_letter"
      ],
      "id": "3f76ba12",
      "execution_count": null,
      "outputs": []
    },
    {
      "cell_type": "markdown",
      "metadata": {},
      "source": [
        "### Valid dictionary key types\n",
        "\n",
        "keys generally have to be immutable objects like scalars or tuples for *hashability*\n",
        "\n",
        "To use a list as a key, one option is to convert it to a tuple, which can be hashed as long as its elements also can be:\n"
      ],
      "id": "2be697d3"
    },
    {
      "cell_type": "code",
      "metadata": {},
      "source": [
        "d = {}\n",
        "\n",
        "d[tuple([1,2,3])] = 5\n",
        "\n",
        "d"
      ],
      "id": "8db8ac11",
      "execution_count": null,
      "outputs": []
    },
    {
      "cell_type": "markdown",
      "metadata": {},
      "source": [
        "## Set\n",
        "\n",
        "![](https://pynative.com/wp-content/uploads/2021/03/python-sets.jpg)\n",
        "\n",
        "can be created in two ways: via the `set` function or via a `set literal` with curly braces:\n"
      ],
      "id": "c94a57a7"
    },
    {
      "cell_type": "code",
      "metadata": {},
      "source": [
        "set([2, 2, 2, 1, 3, 3])\n",
        "\n",
        "{2,2,1,3,3}"
      ],
      "id": "66cec67e",
      "execution_count": null,
      "outputs": []
    },
    {
      "cell_type": "markdown",
      "metadata": {},
      "source": [
        "Sets support mathematical set operations like union, intersection, difference, and symmetric difference.\n",
        "\n",
        "The `union` of these two sets:\n"
      ],
      "id": "15b1d09a"
    },
    {
      "cell_type": "code",
      "metadata": {},
      "source": [
        "a = {1, 2, 3, 4, 5}\n",
        "\n",
        "b = {3, 4, 5, 6, 7, 8}\n",
        "\n",
        "a.union(b)\n",
        "\n",
        "a | b"
      ],
      "id": "94ff1da4",
      "execution_count": null,
      "outputs": []
    },
    {
      "cell_type": "markdown",
      "metadata": {},
      "source": [
        "The `&`operator or the `intersection` method\n"
      ],
      "id": "89c317e3"
    },
    {
      "cell_type": "code",
      "metadata": {},
      "source": [
        "a.intersection(b)\n",
        "\n",
        "a & b"
      ],
      "id": "42c1d2d2",
      "execution_count": null,
      "outputs": []
    },
    {
      "cell_type": "markdown",
      "metadata": {},
      "source": [
        "[A table of commonly used `set` methods](https://wesmckinney.com/book/python-builtin.html#tbl-table_set_operations)\n",
        "\n",
        "All of the logical set operations have in-place counterparts, which enable you to replace the contents of the set on the left side of the operation with the result. For very large sets, this may be more efficient\n"
      ],
      "id": "28fe8d44"
    },
    {
      "cell_type": "code",
      "metadata": {},
      "source": [
        "c = a.copy()\n",
        "\n",
        "c |= b\n",
        "\n",
        "c"
      ],
      "id": "0c2cabfc",
      "execution_count": null,
      "outputs": []
    },
    {
      "cell_type": "code",
      "metadata": {},
      "source": [
        "d = a.copy()\n",
        "\n",
        "d &= b\n",
        "\n",
        "d"
      ],
      "id": "1abae511",
      "execution_count": null,
      "outputs": []
    },
    {
      "cell_type": "markdown",
      "metadata": {},
      "source": [
        "set elements generally must be immutable, and they must be hashable\n",
        "\n",
        "you can convert them to tuples\n",
        "\n",
        "You can also check if a set is a subset of (is contained in) or a superset of (contains all elements of) another set\n"
      ],
      "id": "1392b9bb"
    },
    {
      "cell_type": "code",
      "metadata": {},
      "source": [
        "a_set = {1, 2, 3, 4, 5}\n",
        "\n",
        "{1, 2, 3}.issubset(a_set)"
      ],
      "id": "a2b0255a",
      "execution_count": null,
      "outputs": []
    },
    {
      "cell_type": "code",
      "metadata": {},
      "source": [
        "a_set.issuperset({1, 2, 3})"
      ],
      "id": "be21a41e",
      "execution_count": null,
      "outputs": []
    },
    {
      "cell_type": "markdown",
      "metadata": {},
      "source": [
        "## Built-In Sequence Functions\n",
        "\n",
        "### enumerate\n",
        "\n",
        "`enumerate` returns a sequence of (i, value) tuples\n",
        "\n",
        "### sorted\n",
        "\n",
        "`sorted` returns a new sorted list \n"
      ],
      "id": "b529d0fa"
    },
    {
      "cell_type": "code",
      "metadata": {},
      "source": [
        "sorted([7,1,2,9,3,6,5,0,22])"
      ],
      "id": "6cf904db",
      "execution_count": null,
      "outputs": []
    },
    {
      "cell_type": "markdown",
      "metadata": {},
      "source": [
        "### zip\n",
        "\n",
        "`zip` “pairs” up the elements of a number of lists, tuples, or other sequences to create a list of tuples\n"
      ],
      "id": "8e1ec3d4"
    },
    {
      "cell_type": "code",
      "metadata": {},
      "source": [
        "seq1 = [\"foo\", \"bar\", \"baz\"]\n",
        "\n",
        "seq2 = [\"one\", \"two\", \"three\"]\n",
        "\n",
        "zipped = zip(seq1, seq2)\n",
        "\n",
        "list(zipped)"
      ],
      "id": "1a835a28",
      "execution_count": null,
      "outputs": []
    },
    {
      "cell_type": "markdown",
      "metadata": {},
      "source": [
        "`zip` can take an arbitrary number of sequences, and the number of elements it produces is determined by the shortest sequence\n"
      ],
      "id": "3c5671a3"
    },
    {
      "cell_type": "code",
      "metadata": {},
      "source": [
        "seq3 = [False, True]\n",
        "\n",
        "list(zip(seq1, seq2, seq3))"
      ],
      "id": "e1c6cdc5",
      "execution_count": null,
      "outputs": []
    },
    {
      "cell_type": "markdown",
      "metadata": {},
      "source": [
        "A common use of `zip` is simultaneously iterating over multiple sequences, possibly also combined with `enumerate`\n"
      ],
      "id": "2bd5377e"
    },
    {
      "cell_type": "code",
      "metadata": {},
      "source": [
        "for index, (a, b) in enumerate(zip(seq1, seq2)):\n",
        "    print(f\"{index}: {a}, {b}\")"
      ],
      "id": "67f1d759",
      "execution_count": null,
      "outputs": []
    },
    {
      "cell_type": "markdown",
      "metadata": {},
      "source": [
        "`reversed` iterates over the elements of a sequence in reverse order\n"
      ],
      "id": "898bcddb"
    },
    {
      "cell_type": "code",
      "metadata": {},
      "source": [
        "list(reversed(range(10)))"
      ],
      "id": "3acad655",
      "execution_count": null,
      "outputs": []
    },
    {
      "cell_type": "markdown",
      "metadata": {},
      "source": [
        "## List, Set, and Dictionary Comprehensions\n",
        "\n",
        "```\n",
        "[expr for value in collection if condition]\n",
        "```\n",
        "\n",
        "For example, given a list of strings, we could filter out strings with length 2 or less and convert them to uppercase like this\n"
      ],
      "id": "570d0ca5"
    },
    {
      "cell_type": "code",
      "metadata": {},
      "source": [
        "strings = [\"a\", \"as\", \"bat\", \"car\", \"dove\", \"python\"]\n",
        "\n",
        "[x.upper() for x in strings if len(x) > 2]"
      ],
      "id": "a85069bb",
      "execution_count": null,
      "outputs": []
    },
    {
      "cell_type": "markdown",
      "metadata": {},
      "source": [
        "A dictionary comprehension looks like this\n",
        "\n",
        "```\n",
        "dict_comp = {key-expr: value-expr for value in collection\n",
        "             if condition}\n",
        "```\n",
        "\n",
        "Suppose we wanted a set containing just the lengths of the strings contained in the collection\n"
      ],
      "id": "bec26986"
    },
    {
      "cell_type": "code",
      "metadata": {},
      "source": [
        "unique_lengths = {len(x) for x in strings}\n",
        "\n",
        "unique_lengths"
      ],
      "id": "934c70c9",
      "execution_count": null,
      "outputs": []
    },
    {
      "cell_type": "markdown",
      "metadata": {},
      "source": [
        "we could create a lookup map of these strings for their locations in the list\n"
      ],
      "id": "99afc7b2"
    },
    {
      "cell_type": "code",
      "metadata": {},
      "source": [
        "loc_mapping = {value: index for index, value in enumerate(strings)}\n",
        "\n",
        "loc_mapping"
      ],
      "id": "3c7831b9",
      "execution_count": null,
      "outputs": []
    },
    {
      "cell_type": "markdown",
      "metadata": {},
      "source": [
        "## Nested list comprehensions\n",
        "\n",
        "Suppose we have a list of lists containing some English and Spanish names. We want to get a single list containing all names with two or more a’s in them\n"
      ],
      "id": "7a1641d0"
    },
    {
      "cell_type": "code",
      "metadata": {},
      "source": [
        "all_data = [[\"John\", \"Emily\", \"Michael\", \"Mary\", \"Steven\"],\n",
        "            [\"Maria\", \"Juan\", \"Javier\", \"Natalia\", \"Pilar\"]]\n",
        "\n",
        "result = [name for names in all_data for name in names\n",
        "          if name.count(\"a\") >= 2]\n",
        "\n",
        "result"
      ],
      "id": "a1907e85",
      "execution_count": null,
      "outputs": []
    },
    {
      "cell_type": "markdown",
      "metadata": {},
      "source": [
        "Here is another example where we “flatten” a list of tuples of integers into a simple list of integers\n"
      ],
      "id": "f3443856"
    },
    {
      "cell_type": "code",
      "metadata": {},
      "source": [
        "some_tuples = [(1, 2, 3), (4, 5, 6), (7, 8, 9)]\n",
        "\n",
        "flattened = [x for tup in some_tuples for x in tup]\n",
        "\n",
        "flattened"
      ],
      "id": "5364c62c",
      "execution_count": null,
      "outputs": []
    },
    {
      "cell_type": "markdown",
      "metadata": {},
      "source": [
        "# Functions\n",
        "\n",
        "![](https://miro.medium.com/max/1200/1*ZegxhR33NdeVRpBPYXnYYQ.gif)\n",
        "\n",
        "`Functions` are the primary and most important method of code organization and reuse in Python.\n",
        "\n",
        "they use the `def` keyword\n",
        "\n",
        "Each function can have positional arguments and keyword arguments. Keyword arguments are most commonly used to specify default values or optional arguments. Here we will define a function with an optional z argument with the default value 1.5\n"
      ],
      "id": "3f9b68fd"
    },
    {
      "cell_type": "code",
      "metadata": {},
      "source": [
        "def my_function(x, y, z=1.5):\n",
        "    return (x + y) * z \n",
        "\n",
        "my_function(4,25)"
      ],
      "id": "3a12510c",
      "execution_count": null,
      "outputs": []
    },
    {
      "cell_type": "markdown",
      "metadata": {},
      "source": [
        "The main restriction on function arguments is that the keyword arguments must follow the positional arguments\n",
        "\n",
        "## Namespaces, Scope, and Local Functions\n",
        "\n",
        "A more descriptive name describing a variable scope in Python is a namespace.\n",
        "\n",
        "Consider the following function\n"
      ],
      "id": "32f01707"
    },
    {
      "cell_type": "code",
      "metadata": {},
      "source": [
        "a = []\n",
        "\n",
        "def func():\n",
        "    for i in range(5):\n",
        "        a.append(i)"
      ],
      "id": "08d2d758",
      "execution_count": null,
      "outputs": []
    },
    {
      "cell_type": "markdown",
      "metadata": {},
      "source": [
        "When `func()` is called, the empty list a is created, five elements are appended, and then a is destroyed when the function exits. \n"
      ],
      "id": "1ae900a5"
    },
    {
      "cell_type": "code",
      "metadata": {},
      "source": [
        "func()\n",
        "\n",
        "func()\n",
        "\n",
        "a"
      ],
      "id": "64984775",
      "execution_count": null,
      "outputs": []
    },
    {
      "cell_type": "markdown",
      "metadata": {},
      "source": [
        "## Returing Multiple Values\n",
        "\n",
        "What’s happening here is that the function is actually just returning one object, a tuple, which is then being unpacked into the result variables.\n"
      ],
      "id": "2d3ec95b"
    },
    {
      "cell_type": "code",
      "metadata": {},
      "source": [
        "def f():\n",
        "    a = 5\n",
        "    b = 6\n",
        "    c = 7\n",
        "    return a, b, c\n",
        "\n",
        "a, b, c = f()\n",
        "\n",
        "a"
      ],
      "id": "c71b2067",
      "execution_count": null,
      "outputs": []
    },
    {
      "cell_type": "markdown",
      "metadata": {},
      "source": [
        "## Functions are Objects\n",
        "\n",
        " Suppose we were doing some data cleaning and needed to apply a bunch of transformations to the following list of strings:\n"
      ],
      "id": "33bd0d19"
    },
    {
      "cell_type": "code",
      "metadata": {},
      "source": [
        "states = [\"   Alabama \", \"Georgia!\", \"Georgia\", \"georgia\", \"FlOrIda\",\n",
        "          \"south   carolina##\", \"West virginia?\"]\n",
        "\n",
        "import re\n",
        "\n",
        "def clean_strings(strings):\n",
        "    result = []\n",
        "    for value in strings:\n",
        "        value = value.strip()\n",
        "        value = re.sub(\"[!#?]\", \"\", value)\n",
        "        value = value.title()\n",
        "        result.append(value)\n",
        "    return result\n",
        "\n",
        "clean_strings(states)"
      ],
      "id": "4e52305f",
      "execution_count": null,
      "outputs": []
    },
    {
      "cell_type": "markdown",
      "metadata": {},
      "source": [
        "Another approach\n"
      ],
      "id": "32f8957b"
    },
    {
      "cell_type": "code",
      "metadata": {},
      "source": [
        "def remove_punctuation(value):\n",
        "    return re.sub(\"[!#?]\", \"\", value)\n",
        "\n",
        "clean_ops = [str.strip, remove_punctuation, str.title]\n",
        "\n",
        "def clean_strings(strings, ops):\n",
        "    result = []\n",
        "    for value in strings:\n",
        "        for func in ops:\n",
        "            value = func(value)\n",
        "        result.append(value)\n",
        "    return result\n",
        "\n",
        "clean_strings(states, clean_ops)"
      ],
      "id": "c1387f42",
      "execution_count": null,
      "outputs": []
    },
    {
      "cell_type": "markdown",
      "metadata": {},
      "source": [
        "You can use functions as arguments to other functions like the built-in `map` function\n"
      ],
      "id": "8e2c195c"
    },
    {
      "cell_type": "code",
      "metadata": {},
      "source": [
        "for x in map(remove_punctuation, states):\n",
        "    print(x)"
      ],
      "id": "0b50d1c4",
      "execution_count": null,
      "outputs": []
    },
    {
      "cell_type": "markdown",
      "metadata": {},
      "source": [
        "## Anonymous Lambda Functions\n",
        "\n",
        " a way of writing functions consisting of a single statement\n",
        "\n",
        "suppose you wanted to sort a collection of strings by the number of distinct letters in each string\n"
      ],
      "id": "fa443fcc"
    },
    {
      "cell_type": "code",
      "metadata": {},
      "source": [
        "strings = [\"foo\", \"card\", \"bar\", \"aaaaaaa\", \"ababdo\"]\n",
        "\n",
        "strings.sort(key=lambda x: len(set(x)))\n",
        "\n",
        "strings"
      ],
      "id": "112bd95d",
      "execution_count": null,
      "outputs": []
    },
    {
      "cell_type": "markdown",
      "metadata": {},
      "source": [
        "# Generators\n",
        "\n",
        "Many objects in Python support iteration, such as over objects in a list or lines in a file. \n"
      ],
      "id": "9d37edd1"
    },
    {
      "cell_type": "code",
      "metadata": {},
      "source": [
        "some_dict = {\"a\": 1, \"b\": 2, \"c\": 3}\n",
        "\n",
        "for key in some_dict:\n",
        "    print(key)"
      ],
      "id": "825ad051",
      "execution_count": null,
      "outputs": []
    },
    {
      "cell_type": "markdown",
      "metadata": {},
      "source": [
        "Most methods expecting a list or list-like object will also accept any iterable object. This includes built-in methods such as `min`, `max`, and `sum`, and type constructors like `list` and `tuple`\n",
        "\n",
        "A `generator` is a convenient way, similar to writing a normal function, to construct a new iterable object. Whereas normal functions execute and return a single result at a time, generators can return a sequence of multiple values by pausing and resuming execution each time the generator is used. To create a generator, use the yield keyword instead of return in a function\n"
      ],
      "id": "540ac627"
    },
    {
      "cell_type": "code",
      "metadata": {},
      "source": [
        "def squares(n=10):\n",
        "    print(f\"Generating squares from 1 to {n ** 2}\")\n",
        "    for i in range(1, n + 1):\n",
        "        yield i ** 2\n",
        "\n",
        "gen = squares()\n",
        "\n",
        "for x in gen:\n",
        "    print(x, end=\" \")"
      ],
      "id": "5a8cad28",
      "execution_count": null,
      "outputs": []
    },
    {
      "cell_type": "markdown",
      "metadata": {},
      "source": [
        "> Since generators produce output one element at a time versus an entire list all at once, it can help your program use less memory.\n",
        "\n",
        "## Generator expressions\n",
        "\n",
        " This is a generator analogue to list, dictionary, and set comprehensions. To create one, enclose what would otherwise be a list comprehension within parentheses instead of brackets:\n"
      ],
      "id": "995e7b33"
    },
    {
      "cell_type": "code",
      "metadata": {},
      "source": [
        "gen = (x ** 2 for x in range(100))\n",
        "\n",
        "gen"
      ],
      "id": "5500c6d0",
      "execution_count": null,
      "outputs": []
    },
    {
      "cell_type": "markdown",
      "metadata": {},
      "source": [
        "Generator expressions can be used instead of list comprehensions as function arguments in some cases:\n"
      ],
      "id": "bd9d48c2"
    },
    {
      "cell_type": "code",
      "metadata": {},
      "source": [
        "sum(x ** 2 for x in range(100))"
      ],
      "id": "e825686f",
      "execution_count": null,
      "outputs": []
    },
    {
      "cell_type": "code",
      "metadata": {},
      "source": [
        "dict((i, i ** 2) for i in range(5))"
      ],
      "id": "fa743b19",
      "execution_count": null,
      "outputs": []
    },
    {
      "cell_type": "markdown",
      "metadata": {},
      "source": [
        "## itertools module\n",
        "\n",
        "`itertools` module has a collection of generators for many common data algorithms.\n",
        "\n",
        "`groupby` takes any sequence and a function, grouping consecutive elements in the sequence by return value of the function\n"
      ],
      "id": "97a6a95e"
    },
    {
      "cell_type": "code",
      "metadata": {},
      "source": [
        "import itertools\n",
        "\n",
        "def first_letter(x):\n",
        "    return x[0]\n",
        "\n",
        "names = [\"Alan\", \"Adam\", \"Jackie\", \"Lily\", \"Katie\", \"Molly\"]\n",
        "\n",
        "for letter, names in itertools.groupby(names, first_letter):\n",
        "    print(letter, list(names))"
      ],
      "id": "b79a21f8",
      "execution_count": null,
      "outputs": []
    },
    {
      "cell_type": "markdown",
      "metadata": {},
      "source": [
        "[Table of other itertools functions](https://wesmckinney.com/book/python-builtin.html#tbl-table_itertools)\n",
        "\n",
        "# Errors and Exception Handling\n",
        "\n",
        "Handling errors or exceptions gracefully is an important part of building robust programs\n"
      ],
      "id": "93a7f023"
    },
    {
      "cell_type": "code",
      "metadata": {},
      "source": [
        "def attempt_float(x):\n",
        "    try:\n",
        "        return float(x)\n",
        "    except:\n",
        "        return x\n",
        "\n",
        "attempt_float(\"1.2345\")"
      ],
      "id": "2734a8ab",
      "execution_count": null,
      "outputs": []
    },
    {
      "cell_type": "code",
      "metadata": {},
      "source": [
        "attempt_float(\"something\")"
      ],
      "id": "eefd78d6",
      "execution_count": null,
      "outputs": []
    },
    {
      "cell_type": "markdown",
      "metadata": {},
      "source": [
        "You might want to suppress only ValueError, since a TypeError (the input was not a string or numeric value) might indicate a legitimate bug in your program. To do that, write the exception type after except:\n"
      ],
      "id": "fd55caa9"
    },
    {
      "cell_type": "code",
      "metadata": {},
      "source": [
        "def attempt_float(x):\n",
        "    try:\n",
        "        return float(x)\n",
        "    except ValueError:\n",
        "        return x"
      ],
      "id": "57e7a361",
      "execution_count": null,
      "outputs": []
    },
    {
      "cell_type": "code",
      "metadata": {},
      "source": [
        "#| eval: false\n",
        "attempt_float((1, 2))"
      ],
      "id": "f00f53d1",
      "execution_count": null,
      "outputs": []
    },
    {
      "cell_type": "markdown",
      "metadata": {},
      "source": [
        "```\n",
        "---------------------------------------------------------------------------\n",
        "TypeError                                 Traceback (most recent call last)\n",
        "d:\\packages\\bookclub-py4da\\03_notes.qmd in <cell line: 1>()\n",
        "----> 1001 attempt_float((1, 2))\n",
        "\n",
        "Input In [114], in attempt_float(x)\n",
        "      1 def attempt_float(x):\n",
        "      2     try:\n",
        "----> 3         return float(x)\n",
        "      4     except ValueError:\n",
        "      5         return x\n",
        "\n",
        "TypeError: float() argument must be a string or a real number, not 'tuple'\n",
        "\n",
        "```\n",
        "\n",
        "You can catch multiple exception types by writing a tuple of exception types instead (the parentheses are required):\n"
      ],
      "id": "b4e72e5b"
    },
    {
      "cell_type": "code",
      "metadata": {},
      "source": [
        "def attempt_float(x):\n",
        "    try:\n",
        "        return float(x)\n",
        "    except (TypeError, ValueError):\n",
        "        return x\n",
        "\n",
        "attempt_float((1, 2))"
      ],
      "id": "aa6a72b0",
      "execution_count": null,
      "outputs": []
    },
    {
      "cell_type": "markdown",
      "metadata": {},
      "source": [
        "In some cases, you may not want to suppress an exception, but you want some code to be executed regardless of whether or not the code in the try block succeeds. To do this, use `finally`:\n"
      ],
      "id": "eab1031f"
    },
    {
      "cell_type": "code",
      "metadata": {},
      "source": [
        "#| eval: false\n",
        "f = open(path, mode=\"w\")\n",
        "\n",
        "try:\n",
        "    write_to_file(f)\n",
        "finally:\n",
        "    f.close()"
      ],
      "id": "29ba6b1d",
      "execution_count": null,
      "outputs": []
    },
    {
      "cell_type": "markdown",
      "metadata": {},
      "source": [
        "Here, the file object f will always get closed. \n",
        "\n",
        "you can have code that executes only if the try: block succeeds using else:\n"
      ],
      "id": "33eca894"
    },
    {
      "cell_type": "code",
      "metadata": {},
      "source": [
        "#| eval: false\n",
        "f = open(path, mode=\"w\")\n",
        "\n",
        "try:\n",
        "    write_to_file(f)\n",
        "except:\n",
        "    print(\"Failed\")\n",
        "else:\n",
        "    print(\"Succeeded\")\n",
        "finally:\n",
        "    f.close()"
      ],
      "id": "593dd0bc",
      "execution_count": null,
      "outputs": []
    },
    {
      "cell_type": "markdown",
      "metadata": {},
      "source": [
        "## Exceptions in IPython\n",
        "\n",
        "If an exception is raised while you are %run-ing a script or executing any statement, IPython will by default print a full call stack trace. Having additional context by itself is a big advantage over the standard Python interpreter\n",
        "\n",
        "# Files and the Operating System\n",
        "\n",
        "To open a file for reading or writing, use the built-in open function with either a relative or absolute file path and an optional file encoding.\n",
        "\n",
        "We can then treat the file object f like a list and iterate over the lines\n"
      ],
      "id": "7f87df7f"
    },
    {
      "cell_type": "code",
      "metadata": {},
      "source": [
        "#| eval: false\n",
        "\n",
        "path = \"examples/segismundo.txt\"\n",
        "\n",
        "f = open(path, encoding=\"utf-8\")\n",
        "\n",
        "lines = [x.rstrip() for x in open(path, encoding=\"utf-8\")]\n",
        "\n",
        "lines"
      ],
      "id": "cf0a4c7a",
      "execution_count": null,
      "outputs": []
    },
    {
      "cell_type": "markdown",
      "metadata": {},
      "source": [
        "When you use open to create file objects, it is recommended to close the file\n"
      ],
      "id": "39af0d41"
    },
    {
      "cell_type": "code",
      "metadata": {},
      "source": [
        "#| eval: false\n",
        "f.close()"
      ],
      "id": "61abfc07",
      "execution_count": null,
      "outputs": []
    },
    {
      "cell_type": "markdown",
      "metadata": {},
      "source": [
        "some of the most commonly used methods are `read`, `seek`, and `tell`.\n",
        "\n",
        "`read(10)` returns 10 characters from the file\n",
        "\n",
        "the `read` method advances the file object position by the number of bytes read\n",
        "\n",
        "`tell()` gives you the current position in the file\n",
        "\n",
        "To get consistent behavior across platforms, it is best to pass an encoding (such as `encoding=\"utf-8\"`)\n",
        "\n",
        "`seek(3)` changes the file position to the indicated byte \n",
        "\n",
        "To write text to a file, you can use the file’s `write` or `writelines` methods\n",
        "\n",
        "## Byte and Unicode with Files\n",
        "\n",
        "The default behavior for Python files (whether readable or writable) is text mode, which means that you intend to work with Python strings (i.e., Unicode). \n"
      ],
      "id": "fb339453"
    }
  ],
  "metadata": {
    "kernelspec": {
      "display_name": "Python 3",
      "language": "python",
      "name": "python3"
    }
  },
  "nbformat": 4,
  "nbformat_minor": 5
}